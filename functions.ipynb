{
 "cells": [
  {
   "cell_type": "markdown",
   "id": "05852345-1b0b-4f8e-890e-a10ffc0f3bb6",
   "metadata": {
    "tags": []
   },
   "source": [
    "# TWORZYMY FUNKCJE\n",
    "Do tworzenia funkcji używamy słowa def"
   ]
  },
  {
   "cell_type": "code",
   "execution_count": null,
   "id": "f32f119e-d735-4674-a46b-e81a4f88079f",
   "metadata": {
    "tags": []
   },
   "outputs": [],
   "source": [
    "def dodawanie(a, b)\n",
    "    return (a + b)"
   ]
  },
  {
   "cell_type": "markdown",
   "id": "3dcc7ba1-c2a2-4f83-9c92-dc22e6960f5d",
   "metadata": {},
   "source": [
    "# URUCHAMIAMY FUNKCJE\n",
    "Aby uruchomić funkcję należy wpisać jej nazwę z nawiasami okrągłymi.\n",
    "Jeśli występują parametry - należy je podać w nawiasach"
   ]
  },
  {
   "cell_type": "code",
   "execution_count": null,
   "id": "391e459b-51e0-423e-a3bf-a4c9fed48636",
   "metadata": {},
   "outputs": [],
   "source": [
    "a = 5\n",
    "b = 0\n",
    "def dodawanie (a,b)\n",
    "    return (a + b)\n",
    "\n",
    "dodawanie(a + b)"
   ]
  },
  {
   "cell_type": "code",
   "execution_count": null,
   "id": "1defe395-5252-4cd2-b4e2-a28a592617c2",
   "metadata": {},
   "outputs": [],
   "source": [
    "def dodawanie (a, b)\n",
    "    return (a + b)\n",
    "\n",
    "dodawanie(2, 4)"
   ]
  }
 ],
 "metadata": {
  "kernelspec": {
   "display_name": "Python 3 (ipykernel)",
   "language": "python",
   "name": "python3"
  },
  "language_info": {
   "codemirror_mode": {
    "name": "ipython",
    "version": 3
   },
   "file_extension": ".py",
   "mimetype": "text/x-python",
   "name": "python",
   "nbconvert_exporter": "python",
   "pygments_lexer": "ipython3",
   "version": "3.10.4"
  }
 },
 "nbformat": 4,
 "nbformat_minor": 5
}
